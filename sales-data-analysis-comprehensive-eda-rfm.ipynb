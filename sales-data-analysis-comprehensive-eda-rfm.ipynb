{
 "cells": [
  {
   "cell_type": "code",
   "execution_count": 1,
   "id": "b63b1b60",
   "metadata": {
    "_cell_guid": "b1076dfc-b9ad-4769-8c92-a6c4dae69d19",
    "_uuid": "8f2839f25d086af736a60e9eeb907d3b93b6e0e5",
    "execution": {
     "iopub.execute_input": "2025-10-23T08:11:49.864706Z",
     "iopub.status.busy": "2025-10-23T08:11:49.864371Z",
     "iopub.status.idle": "2025-10-23T08:11:55.045702Z",
     "shell.execute_reply": "2025-10-23T08:11:55.044387Z"
    },
    "papermill": {
     "duration": 5.191355,
     "end_time": "2025-10-23T08:11:55.048578",
     "exception": false,
     "start_time": "2025-10-23T08:11:49.857223",
     "status": "completed"
    },
    "tags": []
   },
   "outputs": [
    {
     "name": "stdout",
     "output_type": "stream",
     "text": [
      "/kaggle/input/sample-sales-data/sales_data_sample.csv\n"
     ]
    }
   ],
   "source": [
    "# This Python 3 environment comes with many helpful analytics libraries installed\n",
    "# It is defined by the kaggle/python Docker image: https://github.com/kaggle/docker-python\n",
    "# For example, here's several helpful packages to load\n",
    "\n",
    "import numpy as np # linear algebra\n",
    "import pandas as pd # data processing, CSV file I/O (e.g. pd.read_csv)\n",
    "import matplotlib.pyplot as plt \n",
    "import seaborn as sns \n",
    "\n",
    "# Input data files are available in the read-only \"../input/\" directory\n",
    "# For example, running this (by clicking run or pressing Shift+Enter) will list all files under the input directory\n",
    "\n",
    "import os\n",
    "for dirname, _, filenames in os.walk('/kaggle/input'):\n",
    "    for filename in filenames:\n",
    "        print(os.path.join(dirname, filename))\n",
    "\n",
    "# You can write up to 20GB to the current directory (/kaggle/working/) that gets preserved as output when you create a version using \"Save & Run All\" \n",
    "# You can also write temporary files to /kaggle/temp/, but they won't be saved outside of the current session"
   ]
  },
  {
   "cell_type": "code",
   "execution_count": 2,
   "id": "0387f82e",
   "metadata": {
    "execution": {
     "iopub.execute_input": "2025-10-23T08:11:55.062297Z",
     "iopub.status.busy": "2025-10-23T08:11:55.060921Z",
     "iopub.status.idle": "2025-10-23T08:11:55.160573Z",
     "shell.execute_reply": "2025-10-23T08:11:55.158371Z"
    },
    "papermill": {
     "duration": 0.108304,
     "end_time": "2025-10-23T08:11:55.162973",
     "exception": false,
     "start_time": "2025-10-23T08:11:55.054669",
     "status": "completed"
    },
    "tags": []
   },
   "outputs": [
    {
     "data": {
      "text/html": [
       "<div>\n",
       "<style scoped>\n",
       "    .dataframe tbody tr th:only-of-type {\n",
       "        vertical-align: middle;\n",
       "    }\n",
       "\n",
       "    .dataframe tbody tr th {\n",
       "        vertical-align: top;\n",
       "    }\n",
       "\n",
       "    .dataframe thead th {\n",
       "        text-align: right;\n",
       "    }\n",
       "</style>\n",
       "<table border=\"1\" class=\"dataframe\">\n",
       "  <thead>\n",
       "    <tr style=\"text-align: right;\">\n",
       "      <th></th>\n",
       "      <th>ORDERNUMBER</th>\n",
       "      <th>QUANTITYORDERED</th>\n",
       "      <th>PRICEEACH</th>\n",
       "      <th>ORDERLINENUMBER</th>\n",
       "      <th>SALES</th>\n",
       "      <th>ORDERDATE</th>\n",
       "      <th>STATUS</th>\n",
       "      <th>QTR_ID</th>\n",
       "      <th>MONTH_ID</th>\n",
       "      <th>YEAR_ID</th>\n",
       "      <th>...</th>\n",
       "      <th>ADDRESSLINE1</th>\n",
       "      <th>ADDRESSLINE2</th>\n",
       "      <th>CITY</th>\n",
       "      <th>STATE</th>\n",
       "      <th>POSTALCODE</th>\n",
       "      <th>COUNTRY</th>\n",
       "      <th>TERRITORY</th>\n",
       "      <th>CONTACTLASTNAME</th>\n",
       "      <th>CONTACTFIRSTNAME</th>\n",
       "      <th>DEALSIZE</th>\n",
       "    </tr>\n",
       "  </thead>\n",
       "  <tbody>\n",
       "    <tr>\n",
       "      <th>0</th>\n",
       "      <td>10107</td>\n",
       "      <td>30</td>\n",
       "      <td>95.70</td>\n",
       "      <td>2</td>\n",
       "      <td>2871.00</td>\n",
       "      <td>2/24/2003 0:00</td>\n",
       "      <td>Shipped</td>\n",
       "      <td>1</td>\n",
       "      <td>2</td>\n",
       "      <td>2003</td>\n",
       "      <td>...</td>\n",
       "      <td>897 Long Airport Avenue</td>\n",
       "      <td>NaN</td>\n",
       "      <td>NYC</td>\n",
       "      <td>NY</td>\n",
       "      <td>10022</td>\n",
       "      <td>USA</td>\n",
       "      <td>NaN</td>\n",
       "      <td>Yu</td>\n",
       "      <td>Kwai</td>\n",
       "      <td>Small</td>\n",
       "    </tr>\n",
       "    <tr>\n",
       "      <th>1</th>\n",
       "      <td>10121</td>\n",
       "      <td>34</td>\n",
       "      <td>81.35</td>\n",
       "      <td>5</td>\n",
       "      <td>2765.90</td>\n",
       "      <td>5/7/2003 0:00</td>\n",
       "      <td>Shipped</td>\n",
       "      <td>2</td>\n",
       "      <td>5</td>\n",
       "      <td>2003</td>\n",
       "      <td>...</td>\n",
       "      <td>59 rue de l'Abbaye</td>\n",
       "      <td>NaN</td>\n",
       "      <td>Reims</td>\n",
       "      <td>NaN</td>\n",
       "      <td>51100</td>\n",
       "      <td>France</td>\n",
       "      <td>EMEA</td>\n",
       "      <td>Henriot</td>\n",
       "      <td>Paul</td>\n",
       "      <td>Small</td>\n",
       "    </tr>\n",
       "    <tr>\n",
       "      <th>2</th>\n",
       "      <td>10134</td>\n",
       "      <td>41</td>\n",
       "      <td>94.74</td>\n",
       "      <td>2</td>\n",
       "      <td>3884.34</td>\n",
       "      <td>7/1/2003 0:00</td>\n",
       "      <td>Shipped</td>\n",
       "      <td>3</td>\n",
       "      <td>7</td>\n",
       "      <td>2003</td>\n",
       "      <td>...</td>\n",
       "      <td>27 rue du Colonel Pierre Avia</td>\n",
       "      <td>NaN</td>\n",
       "      <td>Paris</td>\n",
       "      <td>NaN</td>\n",
       "      <td>75508</td>\n",
       "      <td>France</td>\n",
       "      <td>EMEA</td>\n",
       "      <td>Da Cunha</td>\n",
       "      <td>Daniel</td>\n",
       "      <td>Medium</td>\n",
       "    </tr>\n",
       "    <tr>\n",
       "      <th>3</th>\n",
       "      <td>10145</td>\n",
       "      <td>45</td>\n",
       "      <td>83.26</td>\n",
       "      <td>6</td>\n",
       "      <td>3746.70</td>\n",
       "      <td>8/25/2003 0:00</td>\n",
       "      <td>Shipped</td>\n",
       "      <td>3</td>\n",
       "      <td>8</td>\n",
       "      <td>2003</td>\n",
       "      <td>...</td>\n",
       "      <td>78934 Hillside Dr.</td>\n",
       "      <td>NaN</td>\n",
       "      <td>Pasadena</td>\n",
       "      <td>CA</td>\n",
       "      <td>90003</td>\n",
       "      <td>USA</td>\n",
       "      <td>NaN</td>\n",
       "      <td>Young</td>\n",
       "      <td>Julie</td>\n",
       "      <td>Medium</td>\n",
       "    </tr>\n",
       "    <tr>\n",
       "      <th>4</th>\n",
       "      <td>10159</td>\n",
       "      <td>49</td>\n",
       "      <td>100.00</td>\n",
       "      <td>14</td>\n",
       "      <td>5205.27</td>\n",
       "      <td>10/10/2003 0:00</td>\n",
       "      <td>Shipped</td>\n",
       "      <td>4</td>\n",
       "      <td>10</td>\n",
       "      <td>2003</td>\n",
       "      <td>...</td>\n",
       "      <td>7734 Strong St.</td>\n",
       "      <td>NaN</td>\n",
       "      <td>San Francisco</td>\n",
       "      <td>CA</td>\n",
       "      <td>NaN</td>\n",
       "      <td>USA</td>\n",
       "      <td>NaN</td>\n",
       "      <td>Brown</td>\n",
       "      <td>Julie</td>\n",
       "      <td>Medium</td>\n",
       "    </tr>\n",
       "  </tbody>\n",
       "</table>\n",
       "<p>5 rows × 25 columns</p>\n",
       "</div>"
      ],
      "text/plain": [
       "   ORDERNUMBER  QUANTITYORDERED  PRICEEACH  ORDERLINENUMBER    SALES  \\\n",
       "0        10107               30      95.70                2  2871.00   \n",
       "1        10121               34      81.35                5  2765.90   \n",
       "2        10134               41      94.74                2  3884.34   \n",
       "3        10145               45      83.26                6  3746.70   \n",
       "4        10159               49     100.00               14  5205.27   \n",
       "\n",
       "         ORDERDATE   STATUS  QTR_ID  MONTH_ID  YEAR_ID  ...  \\\n",
       "0   2/24/2003 0:00  Shipped       1         2     2003  ...   \n",
       "1    5/7/2003 0:00  Shipped       2         5     2003  ...   \n",
       "2    7/1/2003 0:00  Shipped       3         7     2003  ...   \n",
       "3   8/25/2003 0:00  Shipped       3         8     2003  ...   \n",
       "4  10/10/2003 0:00  Shipped       4        10     2003  ...   \n",
       "\n",
       "                    ADDRESSLINE1  ADDRESSLINE2           CITY STATE  \\\n",
       "0        897 Long Airport Avenue           NaN            NYC    NY   \n",
       "1             59 rue de l'Abbaye           NaN          Reims   NaN   \n",
       "2  27 rue du Colonel Pierre Avia           NaN          Paris   NaN   \n",
       "3             78934 Hillside Dr.           NaN       Pasadena    CA   \n",
       "4                7734 Strong St.           NaN  San Francisco    CA   \n",
       "\n",
       "  POSTALCODE COUNTRY TERRITORY CONTACTLASTNAME CONTACTFIRSTNAME DEALSIZE  \n",
       "0      10022     USA       NaN              Yu             Kwai    Small  \n",
       "1      51100  France      EMEA         Henriot             Paul    Small  \n",
       "2      75508  France      EMEA        Da Cunha           Daniel   Medium  \n",
       "3      90003     USA       NaN           Young            Julie   Medium  \n",
       "4        NaN     USA       NaN           Brown            Julie   Medium  \n",
       "\n",
       "[5 rows x 25 columns]"
      ]
     },
     "execution_count": 2,
     "metadata": {},
     "output_type": "execute_result"
    }
   ],
   "source": [
    "df = pd.read_csv(\"/kaggle/input/sample-sales-data/sales_data_sample.csv\", encoding=\"latin1\")\n",
    "df.head()"
   ]
  },
  {
   "cell_type": "code",
   "execution_count": 3,
   "id": "581d7e0e",
   "metadata": {
    "execution": {
     "iopub.execute_input": "2025-10-23T08:11:55.174764Z",
     "iopub.status.busy": "2025-10-23T08:11:55.174393Z",
     "iopub.status.idle": "2025-10-23T08:11:55.209979Z",
     "shell.execute_reply": "2025-10-23T08:11:55.208493Z"
    },
    "papermill": {
     "duration": 0.043953,
     "end_time": "2025-10-23T08:11:55.211642",
     "exception": false,
     "start_time": "2025-10-23T08:11:55.167689",
     "status": "completed"
    },
    "tags": []
   },
   "outputs": [
    {
     "name": "stdout",
     "output_type": "stream",
     "text": [
      "<class 'pandas.core.frame.DataFrame'>\n",
      "RangeIndex: 2823 entries, 0 to 2822\n",
      "Data columns (total 25 columns):\n",
      " #   Column            Non-Null Count  Dtype  \n",
      "---  ------            --------------  -----  \n",
      " 0   ORDERNUMBER       2823 non-null   int64  \n",
      " 1   QUANTITYORDERED   2823 non-null   int64  \n",
      " 2   PRICEEACH         2823 non-null   float64\n",
      " 3   ORDERLINENUMBER   2823 non-null   int64  \n",
      " 4   SALES             2823 non-null   float64\n",
      " 5   ORDERDATE         2823 non-null   object \n",
      " 6   STATUS            2823 non-null   object \n",
      " 7   QTR_ID            2823 non-null   int64  \n",
      " 8   MONTH_ID          2823 non-null   int64  \n",
      " 9   YEAR_ID           2823 non-null   int64  \n",
      " 10  PRODUCTLINE       2823 non-null   object \n",
      " 11  MSRP              2823 non-null   int64  \n",
      " 12  PRODUCTCODE       2823 non-null   object \n",
      " 13  CUSTOMERNAME      2823 non-null   object \n",
      " 14  PHONE             2823 non-null   object \n",
      " 15  ADDRESSLINE1      2823 non-null   object \n",
      " 16  ADDRESSLINE2      302 non-null    object \n",
      " 17  CITY              2823 non-null   object \n",
      " 18  STATE             1337 non-null   object \n",
      " 19  POSTALCODE        2747 non-null   object \n",
      " 20  COUNTRY           2823 non-null   object \n",
      " 21  TERRITORY         1749 non-null   object \n",
      " 22  CONTACTLASTNAME   2823 non-null   object \n",
      " 23  CONTACTFIRSTNAME  2823 non-null   object \n",
      " 24  DEALSIZE          2823 non-null   object \n",
      "dtypes: float64(2), int64(7), object(16)\n",
      "memory usage: 551.5+ KB\n"
     ]
    }
   ],
   "source": [
    "df.info()"
   ]
  },
  {
   "cell_type": "code",
   "execution_count": 4,
   "id": "2193020a",
   "metadata": {
    "execution": {
     "iopub.execute_input": "2025-10-23T08:11:55.221684Z",
     "iopub.status.busy": "2025-10-23T08:11:55.221324Z",
     "iopub.status.idle": "2025-10-23T08:11:55.233059Z",
     "shell.execute_reply": "2025-10-23T08:11:55.231585Z"
    },
    "papermill": {
     "duration": 0.018734,
     "end_time": "2025-10-23T08:11:55.234831",
     "exception": false,
     "start_time": "2025-10-23T08:11:55.216097",
     "status": "completed"
    },
    "tags": []
   },
   "outputs": [
    {
     "name": "stderr",
     "output_type": "stream",
     "text": [
      "/tmp/ipykernel_13/1309048852.py:1: FutureWarning: A value is trying to be set on a copy of a DataFrame or Series through chained assignment using an inplace method.\n",
      "The behavior will change in pandas 3.0. This inplace method will never work because the intermediate object on which we are setting values always behaves as a copy.\n",
      "\n",
      "For example, when doing 'df[col].method(value, inplace=True)', try using 'df.method({col: value}, inplace=True)' or df[col] = df[col].method(value) instead, to perform the operation inplace on the original object.\n",
      "\n",
      "\n",
      "  df['ADDRESSLINE2'].fillna('Missing', inplace=True)\n",
      "/tmp/ipykernel_13/1309048852.py:2: FutureWarning: A value is trying to be set on a copy of a DataFrame or Series through chained assignment using an inplace method.\n",
      "The behavior will change in pandas 3.0. This inplace method will never work because the intermediate object on which we are setting values always behaves as a copy.\n",
      "\n",
      "For example, when doing 'df[col].method(value, inplace=True)', try using 'df.method({col: value}, inplace=True)' or df[col] = df[col].method(value) instead, to perform the operation inplace on the original object.\n",
      "\n",
      "\n",
      "  df['STATE'].fillna('Missing', inplace=True)\n",
      "/tmp/ipykernel_13/1309048852.py:3: FutureWarning: A value is trying to be set on a copy of a DataFrame or Series through chained assignment using an inplace method.\n",
      "The behavior will change in pandas 3.0. This inplace method will never work because the intermediate object on which we are setting values always behaves as a copy.\n",
      "\n",
      "For example, when doing 'df[col].method(value, inplace=True)', try using 'df.method({col: value}, inplace=True)' or df[col] = df[col].method(value) instead, to perform the operation inplace on the original object.\n",
      "\n",
      "\n",
      "  df['TERRITORY'].fillna('Missing', inplace=True)\n",
      "/tmp/ipykernel_13/1309048852.py:4: FutureWarning: A value is trying to be set on a copy of a DataFrame or Series through chained assignment using an inplace method.\n",
      "The behavior will change in pandas 3.0. This inplace method will never work because the intermediate object on which we are setting values always behaves as a copy.\n",
      "\n",
      "For example, when doing 'df[col].method(value, inplace=True)', try using 'df.method({col: value}, inplace=True)' or df[col] = df[col].method(value) instead, to perform the operation inplace on the original object.\n",
      "\n",
      "\n",
      "  df['POSTALCODE'].fillna('Missing', inplace=True)\n"
     ]
    }
   ],
   "source": [
    "df['ADDRESSLINE2'].fillna('Missing', inplace=True)\n",
    "df['STATE'].fillna('Missing', inplace=True)\n",
    "df['TERRITORY'].fillna('Missing', inplace=True)\n",
    "df['POSTALCODE'].fillna('Missing', inplace=True)"
   ]
  },
  {
   "cell_type": "code",
   "execution_count": 5,
   "id": "62238f6c",
   "metadata": {
    "execution": {
     "iopub.execute_input": "2025-10-23T08:11:55.245397Z",
     "iopub.status.busy": "2025-10-23T08:11:55.245023Z",
     "iopub.status.idle": "2025-10-23T08:11:55.259081Z",
     "shell.execute_reply": "2025-10-23T08:11:55.257848Z"
    },
    "papermill": {
     "duration": 0.021964,
     "end_time": "2025-10-23T08:11:55.261233",
     "exception": false,
     "start_time": "2025-10-23T08:11:55.239269",
     "status": "completed"
    },
    "tags": []
   },
   "outputs": [],
   "source": [
    "df['ORDERDATE'] = pd.to_datetime(df['ORDERDATE'])"
   ]
  },
  {
   "cell_type": "code",
   "execution_count": 6,
   "id": "b74fd01a",
   "metadata": {
    "execution": {
     "iopub.execute_input": "2025-10-23T08:11:55.271541Z",
     "iopub.status.busy": "2025-10-23T08:11:55.271159Z",
     "iopub.status.idle": "2025-10-23T08:11:55.288975Z",
     "shell.execute_reply": "2025-10-23T08:11:55.287374Z"
    },
    "papermill": {
     "duration": 0.025021,
     "end_time": "2025-10-23T08:11:55.290919",
     "exception": false,
     "start_time": "2025-10-23T08:11:55.265898",
     "status": "completed"
    },
    "tags": []
   },
   "outputs": [
    {
     "name": "stdout",
     "output_type": "stream",
     "text": [
      "<class 'pandas.core.frame.DataFrame'>\n",
      "RangeIndex: 2823 entries, 0 to 2822\n",
      "Data columns (total 25 columns):\n",
      " #   Column            Non-Null Count  Dtype         \n",
      "---  ------            --------------  -----         \n",
      " 0   ORDERNUMBER       2823 non-null   int64         \n",
      " 1   QUANTITYORDERED   2823 non-null   int64         \n",
      " 2   PRICEEACH         2823 non-null   float64       \n",
      " 3   ORDERLINENUMBER   2823 non-null   int64         \n",
      " 4   SALES             2823 non-null   float64       \n",
      " 5   ORDERDATE         2823 non-null   datetime64[ns]\n",
      " 6   STATUS            2823 non-null   object        \n",
      " 7   QTR_ID            2823 non-null   int64         \n",
      " 8   MONTH_ID          2823 non-null   int64         \n",
      " 9   YEAR_ID           2823 non-null   int64         \n",
      " 10  PRODUCTLINE       2823 non-null   object        \n",
      " 11  MSRP              2823 non-null   int64         \n",
      " 12  PRODUCTCODE       2823 non-null   object        \n",
      " 13  CUSTOMERNAME      2823 non-null   object        \n",
      " 14  PHONE             2823 non-null   object        \n",
      " 15  ADDRESSLINE1      2823 non-null   object        \n",
      " 16  ADDRESSLINE2      2823 non-null   object        \n",
      " 17  CITY              2823 non-null   object        \n",
      " 18  STATE             2823 non-null   object        \n",
      " 19  POSTALCODE        2823 non-null   object        \n",
      " 20  COUNTRY           2823 non-null   object        \n",
      " 21  TERRITORY         2823 non-null   object        \n",
      " 22  CONTACTLASTNAME   2823 non-null   object        \n",
      " 23  CONTACTFIRSTNAME  2823 non-null   object        \n",
      " 24  DEALSIZE          2823 non-null   object        \n",
      "dtypes: datetime64[ns](1), float64(2), int64(7), object(15)\n",
      "memory usage: 551.5+ KB\n"
     ]
    }
   ],
   "source": [
    "df.info()"
   ]
  },
  {
   "cell_type": "code",
   "execution_count": 7,
   "id": "2f07a314",
   "metadata": {
    "execution": {
     "iopub.execute_input": "2025-10-23T08:11:55.301512Z",
     "iopub.status.busy": "2025-10-23T08:11:55.301164Z",
     "iopub.status.idle": "2025-10-23T08:11:55.320173Z",
     "shell.execute_reply": "2025-10-23T08:11:55.318220Z"
    },
    "papermill": {
     "duration": 0.026545,
     "end_time": "2025-10-23T08:11:55.322000",
     "exception": false,
     "start_time": "2025-10-23T08:11:55.295455",
     "status": "completed"
    },
    "tags": []
   },
   "outputs": [
    {
     "name": "stdout",
     "output_type": "stream",
     "text": [
      "QUANTITYORDERED Stats: \n",
      "count    2823.000000\n",
      "mean       35.092809\n",
      "std         9.741443\n",
      "min         6.000000\n",
      "25%        27.000000\n",
      "50%        35.000000\n",
      "75%        43.000000\n",
      "max        97.000000\n",
      "Name: QUANTITYORDERED, dtype: float64\n",
      "\n",
      "PRICEEACH Stats:\n",
      "count    2823.000000\n",
      "mean       83.658544\n",
      "std        20.174277\n",
      "min        26.880000\n",
      "25%        68.860000\n",
      "50%        95.700000\n",
      "75%       100.000000\n",
      "max       100.000000\n",
      "Name: PRICEEACH, dtype: float64\n"
     ]
    }
   ],
   "source": [
    "print(\"QUANTITYORDERED Stats: \")\n",
    "print(df['QUANTITYORDERED'].describe())\n",
    "print(\"\\nPRICEEACH Stats:\")\n",
    "print(df['PRICEEACH'].describe())"
   ]
  },
  {
   "cell_type": "code",
   "execution_count": 8,
   "id": "bab5c9dc",
   "metadata": {
    "execution": {
     "iopub.execute_input": "2025-10-23T08:11:55.333587Z",
     "iopub.status.busy": "2025-10-23T08:11:55.333136Z",
     "iopub.status.idle": "2025-10-23T08:11:55.344993Z",
     "shell.execute_reply": "2025-10-23T08:11:55.343667Z"
    },
    "papermill": {
     "duration": 0.019519,
     "end_time": "2025-10-23T08:11:55.347185",
     "exception": false,
     "start_time": "2025-10-23T08:11:55.327666",
     "status": "completed"
    },
    "tags": []
   },
   "outputs": [],
   "source": [
    "df['Order_Year'] = df['ORDERDATE'].dt.year\n",
    "df['Order_Month'] = df['ORDERDATE'].dt.month\n",
    "df['Order_DayOfWeek'] = df['ORDERDATE'].dt.day_name()"
   ]
  },
  {
   "cell_type": "code",
   "execution_count": 9,
   "id": "937f58d4",
   "metadata": {
    "execution": {
     "iopub.execute_input": "2025-10-23T08:11:55.358622Z",
     "iopub.status.busy": "2025-10-23T08:11:55.358101Z",
     "iopub.status.idle": "2025-10-23T08:11:55.365145Z",
     "shell.execute_reply": "2025-10-23T08:11:55.363652Z"
    },
    "papermill": {
     "duration": 0.016083,
     "end_time": "2025-10-23T08:11:55.367936",
     "exception": false,
     "start_time": "2025-10-23T08:11:55.351853",
     "status": "completed"
    },
    "tags": []
   },
   "outputs": [],
   "source": [
    "snapshot_date = df['ORDERDATE'].max() + pd.Timedelta(days=1)"
   ]
  },
  {
   "cell_type": "code",
   "execution_count": 10,
   "id": "c877f6e3",
   "metadata": {
    "execution": {
     "iopub.execute_input": "2025-10-23T08:11:55.379943Z",
     "iopub.status.busy": "2025-10-23T08:11:55.379559Z",
     "iopub.status.idle": "2025-10-23T08:11:55.418912Z",
     "shell.execute_reply": "2025-10-23T08:11:55.417883Z"
    },
    "papermill": {
     "duration": 0.047674,
     "end_time": "2025-10-23T08:11:55.420689",
     "exception": false,
     "start_time": "2025-10-23T08:11:55.373015",
     "status": "completed"
    },
    "tags": []
   },
   "outputs": [
    {
     "name": "stdout",
     "output_type": "stream",
     "text": [
      "                         Recency  Frequency   Monetary\n",
      "CUSTOMERNAME                                          \n",
      "AV Stores, Co.               196          3  157807.81\n",
      "Alpha Cognac                  65          3   70488.44\n",
      "Amica Models & Co.           265          2   94117.26\n",
      "Anna's Decorations, Ltd       84          4  153996.13\n",
      "Atelier graphique            188          3   24179.96\n"
     ]
    }
   ],
   "source": [
    "rfm_df = df.groupby('CUSTOMERNAME').agg(\n",
    "    Recency=('ORDERDATE', lambda x: (snapshot_date - x.max()).days),\n",
    "    \n",
    "    Frequency=('ORDERNUMBER', 'nunique'),\n",
    "   \n",
    "    Monetary=('SALES', 'sum')\n",
    ")\n",
    "\n",
    "print(rfm_df.head())"
   ]
  },
  {
   "cell_type": "code",
   "execution_count": 11,
   "id": "f47c58d2",
   "metadata": {
    "execution": {
     "iopub.execute_input": "2025-10-23T08:11:55.431396Z",
     "iopub.status.busy": "2025-10-23T08:11:55.431074Z",
     "iopub.status.idle": "2025-10-23T08:11:55.731831Z",
     "shell.execute_reply": "2025-10-23T08:11:55.730570Z"
    },
    "papermill": {
     "duration": 0.308972,
     "end_time": "2025-10-23T08:11:55.734358",
     "exception": false,
     "start_time": "2025-10-23T08:11:55.425386",
     "status": "completed"
    },
    "tags": []
   },
   "outputs": [],
   "source": [
    "from sklearn.preprocessing import StandardScaler"
   ]
  },
  {
   "cell_type": "code",
   "execution_count": 12,
   "id": "767b6e94",
   "metadata": {
    "execution": {
     "iopub.execute_input": "2025-10-23T08:11:55.745950Z",
     "iopub.status.busy": "2025-10-23T08:11:55.745580Z",
     "iopub.status.idle": "2025-10-23T08:11:55.767320Z",
     "shell.execute_reply": "2025-10-23T08:11:55.764004Z"
    },
    "papermill": {
     "duration": 0.029976,
     "end_time": "2025-10-23T08:11:55.769805",
     "exception": false,
     "start_time": "2025-10-23T08:11:55.739829",
     "status": "completed"
    },
    "tags": []
   },
   "outputs": [
    {
     "name": "stdout",
     "output_type": "stream",
     "text": [
      "                          Recency  Frequency  Monetary\n",
      "CUSTOMERNAME                                          \n",
      "AV Stores, Co.           0.100792  -0.115831  0.444432\n",
      "Alpha Cognac            -0.901470  -0.115831 -0.351497\n",
      "Amica Models & Co.       0.628701  -0.459586 -0.136117\n",
      "Anna's Decorations, Ltd -0.756104   0.227925  0.409688\n",
      "Atelier graphique        0.039585  -0.115831 -0.773606\n"
     ]
    }
   ],
   "source": [
    "rfm_features = rfm_df[['Recency','Frequency','Monetary']]\n",
    "\n",
    "scaler = StandardScaler()\n",
    "rfm_scaled = scaler.fit_transform(rfm_features)\n",
    "\n",
    "rfm_scaled_df = pd.DataFrame(rfm_scaled, index=rfm_features.index, columns=rfm_features.columns)\n",
    "print(rfm_scaled_df.head())"
   ]
  },
  {
   "cell_type": "code",
   "execution_count": 13,
   "id": "31e84323",
   "metadata": {
    "execution": {
     "iopub.execute_input": "2025-10-23T08:11:55.781021Z",
     "iopub.status.busy": "2025-10-23T08:11:55.780660Z",
     "iopub.status.idle": "2025-10-23T08:11:57.159024Z",
     "shell.execute_reply": "2025-10-23T08:11:57.157694Z"
    },
    "papermill": {
     "duration": 1.386511,
     "end_time": "2025-10-23T08:11:57.161251",
     "exception": false,
     "start_time": "2025-10-23T08:11:55.774740",
     "status": "completed"
    },
    "tags": []
   },
   "outputs": [
    {
     "data": {
      "image/png": "[encoded data removed]",
      "text/plain": [
       "<Figure size 800x500 with 1 Axes>"
      ]
     },
     "metadata": {},
     "output_type": "display_data"
    }
   ],
   "source": [
    "from sklearn.cluster import KMeans \n",
    "inertia = []\n",
    "K_RANGE = range(1, 11)\n",
    "\n",
    "for k in K_RANGE:\n",
    "    kmeans = KMeans(n_clusters=k, random_state=42, n_init=10)\n",
    "    kmeans.fit(rfm_scaled_df)\n",
    "    \n",
    "   \n",
    "    inertia.append(kmeans.inertia_)\n",
    "\n",
    "plt.figure(figsize=(8, 5))\n",
    "plt.plot(K_RANGE, inertia, marker='o', linestyle='--')\n",
    "plt.title('Dirsek Metodu (Elbow Method)')\n",
    "plt.xlabel('Küme Sayısı (k)')\n",
    "plt.ylabel('Atalet (Inertia)')\n",
    "plt.grid(True)\n",
    "plt.show()"
   ]
  },
  {
   "cell_type": "code",
   "execution_count": 14,
   "id": "e50c59f0",
   "metadata": {
    "execution": {
     "iopub.execute_input": "2025-10-23T08:11:57.175455Z",
     "iopub.status.busy": "2025-10-23T08:11:57.174967Z",
     "iopub.status.idle": "2025-10-23T08:11:57.204101Z",
     "shell.execute_reply": "2025-10-23T08:11:57.201904Z"
    },
    "papermill": {
     "duration": 0.039438,
     "end_time": "2025-10-23T08:11:57.206034",
     "exception": false,
     "start_time": "2025-10-23T08:11:57.166596",
     "status": "completed"
    },
    "tags": []
   },
   "outputs": [
    {
     "name": "stdout",
     "output_type": "stream",
     "text": [
      "                         Recency  Frequency   Monetary  Cluster\n",
      "CUSTOMERNAME                                                   \n",
      "AV Stores, Co.               196          3  157807.81        2\n",
      "Alpha Cognac                  65          3   70488.44        0\n",
      "Amica Models & Co.           265          2   94117.26        2\n",
      "Anna's Decorations, Ltd       84          4  153996.13        0\n",
      "Atelier graphique            188          3   24179.96        2\n"
     ]
    }
   ],
   "source": [
    "OPTIMAL_K = 4\n",
    "kmeans_final = KMeans(n_clusters= OPTIMAL_K, random_state=42, n_init=10)\n",
    "kmeans_final.fit(rfm_scaled_df)\n",
    "\n",
    "rfm_df['Cluster'] = kmeans_final.labels_\n",
    "print(rfm_df.head())"
   ]
  },
  {
   "cell_type": "code",
   "execution_count": 15,
   "id": "66f8ae61",
   "metadata": {
    "execution": {
     "iopub.execute_input": "2025-10-23T08:11:57.220996Z",
     "iopub.status.busy": "2025-10-23T08:11:57.220620Z",
     "iopub.status.idle": "2025-10-23T08:11:57.237852Z",
     "shell.execute_reply": "2025-10-23T08:11:57.236524Z"
    },
    "papermill": {
     "duration": 0.026112,
     "end_time": "2025-10-23T08:11:57.239630",
     "exception": false,
     "start_time": "2025-10-23T08:11:57.213518",
     "status": "completed"
    },
    "tags": []
   },
   "outputs": [
    {
     "name": "stdout",
     "output_type": "stream",
     "text": [
      "Cluster Mean (Profile): \n",
      "            Recency  Frequency       Monetary\n",
      "Cluster                                      \n",
      "0         51.965517   3.517241  114589.796897\n",
      "1          2.000000  21.500000  783576.085000\n",
      "2        202.428571   2.795918   88955.988571\n",
      "3        449.166667   2.083333   65294.094167\n"
     ]
    }
   ],
   "source": [
    "cluster_profile = rfm_df.groupby('Cluster')[['Recency', 'Frequency', 'Monetary']].mean()\n",
    "print('Cluster Mean (Profile): ')\n",
    "print(cluster_profile)"
   ]
  },
  {
   "cell_type": "code",
   "execution_count": 16,
   "id": "dece07e6",
   "metadata": {
    "execution": {
     "iopub.execute_input": "2025-10-23T08:11:57.252123Z",
     "iopub.status.busy": "2025-10-23T08:11:57.251760Z",
     "iopub.status.idle": "2025-10-23T08:11:57.265380Z",
     "shell.execute_reply": "2025-10-23T08:11:57.263839Z"
    },
    "papermill": {
     "duration": 0.021739,
     "end_time": "2025-10-23T08:11:57.267064",
     "exception": false,
     "start_time": "2025-10-23T08:11:57.245325",
     "status": "completed"
    },
    "tags": []
   },
   "outputs": [
    {
     "name": "stdout",
     "output_type": "stream",
     "text": [
      "                         Recency  Frequency   Monetary  Segment\n",
      "CUSTOMERNAME                                                   \n",
      "AV Stores, Co.               196          3  157807.81  At Risk\n",
      "Alpha Cognac                  65          3   70488.44    Loyal\n",
      "Amica Models & Co.           265          2   94117.26  At Risk\n",
      "Anna's Decorations, Ltd       84          4  153996.13    Loyal\n",
      "Atelier graphique            188          3   24179.96  At Risk\n",
      "\n",
      "Number of Customers in Each Segment:\n",
      "Segment\n",
      "At Risk      49\n",
      "Loyal        29\n",
      "Lost         12\n",
      "Champions     2\n",
      "Name: count, dtype: int64\n"
     ]
    }
   ],
   "source": [
    "segment_map = {\n",
    "    1: 'Champions',  \n",
    "    0: 'Loyal',         \n",
    "    2: 'At Risk',         \n",
    "    3: 'Lost',            \n",
    "}\n",
    "\n",
    "rfm_df['Segment'] = rfm_df['Cluster'].replace(segment_map)\n",
    "rfm_df.drop('Cluster', axis=1, inplace=True)\n",
    "\n",
    "\n",
    "print(rfm_df.head())\n",
    "\n",
    "print(\"\\nNumber of Customers in Each Segment:\")\n",
    "print(rfm_df['Segment'].value_counts())"
   ]
  },
  {
   "cell_type": "code",
   "execution_count": 17,
   "id": "62c0470b",
   "metadata": {
    "execution": {
     "iopub.execute_input": "2025-10-23T08:11:57.280570Z",
     "iopub.status.busy": "2025-10-23T08:11:57.280217Z",
     "iopub.status.idle": "2025-10-23T08:11:57.337038Z",
     "shell.execute_reply": "2025-10-23T08:11:57.335734Z"
    },
    "papermill": {
     "duration": 0.065994,
     "end_time": "2025-10-23T08:11:57.338965",
     "exception": false,
     "start_time": "2025-10-23T08:11:57.272971",
     "status": "completed"
    },
    "tags": []
   },
   "outputs": [],
   "source": [
    "rfm_df.to_csv('musteri_segmentleri.csv')\n",
    "df.to_csv('temiz_satis_verisi.csv', index=False)"
   ]
  },
  {
   "cell_type": "code",
   "execution_count": null,
   "id": "b13146e6",
   "metadata": {
    "papermill": {
     "duration": 0.005998,
     "end_time": "2025-10-23T08:11:57.350623",
     "exception": false,
     "start_time": "2025-10-23T08:11:57.344625",
     "status": "completed"
    },
    "tags": []
   },
   "outputs": [],
   "source": []
  }
 ],
 "metadata": {
  "kaggle": {
   "accelerator": "none",
   "dataSources": [
    {
     "datasetId": 435,
     "sourceId": 896,
     "sourceType": "datasetVersion"
    }
   ],
   "dockerImageVersionId": 31153,
   "isGpuEnabled": false,
   "isInternetEnabled": true,
   "language": "python",
   "sourceType": "notebook"
  },
  "kernelspec": {
   "display_name": "Python 3",
   "language": "python",
   "name": "python3"
  },
  "language_info": {
   "codemirror_mode": {
    "name": "ipython",
    "version": 3
   },
   "file_extension": ".py",
   "mimetype": "text/x-python",
   "name": "python",
   "nbconvert_exporter": "python",
   "pygments_lexer": "ipython3",
   "version": "3.11.13"
  },
  "papermill": {
   "default_parameters": {},
   "duration": 14.193847,
   "end_time": "2025-10-23T08:11:58.181733",
   "environment_variables": {},
   "exception": null,
   "input_path": "__notebook__.ipynb",
   "output_path": "__notebook__.ipynb",
   "parameters": {},
   "start_time": "2025-10-23T08:11:43.987886",
   "version": "2.6.0"
  }
 },
 "nbformat": 4,
 "nbformat_minor": 5
}
